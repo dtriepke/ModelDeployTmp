{
 "cells": [
  {
   "cell_type": "markdown",
   "metadata": {},
   "source": [
    "# Echo Example"
   ]
  },
  {
   "cell_type": "code",
   "execution_count": null,
   "metadata": {},
   "outputs": [],
   "source": [
    "import flask\n",
    "\n",
    "# instantiate flask \n",
    "app = flask.Flask(__name__)\n",
    "\n",
    "# define a predict function as an endpoint \n",
    "@app.route(\"/predict\", methods=[\"GET\",\"POST\"])\n",
    "def predict():\n",
    "    data = {\"success\": False}\n",
    "\n",
    "    params = flask.request.json\n",
    "    if (params == None):\n",
    "        params = flask.request.args\n",
    "\n",
    "    # if parameters are found, echo the msg parameter \n",
    "    if (params != None):\n",
    "        data[\"response\"] = params.get(\"msg\")\n",
    "        data[\"success\"] = True\n",
    "\n",
    "    # return a reponse in json format \n",
    "    return flask.jsonify(data)    \n",
    "\n",
    "# start the flask app, allow remote connections \n",
    "app.run(host='0.0.0.0')  "
   ]
  },
  {
   "cell_type": "markdown",
   "metadata": {},
   "source": [
    "# Model Training"
   ]
  },
  {
   "cell_type": "code",
   "execution_count": 2,
   "metadata": {},
   "outputs": [
    {
     "name": "stderr",
     "output_type": "stream",
     "text": [
      "/usr/lib64/python3.6/importlib/_bootstrap.py:219: RuntimeWarning: numpy.dtype size changed, may indicate binary incompatibility. Expected 96, got 88\n",
      "  return f(*args, **kwds)\n",
      "/usr/lib64/python3.6/importlib/_bootstrap.py:219: RuntimeWarning: numpy.dtype size changed, may indicate binary incompatibility. Expected 96, got 88\n",
      "  return f(*args, **kwds)\n",
      "Using TensorFlow backend.\n"
     ]
    },
    {
     "name": "stdout",
     "output_type": "stream",
     "text": [
      "[0.38657849006652834, 0.8184062211036682]\n"
     ]
    }
   ],
   "source": [
    "\n",
    "import pandas as pd\n",
    "import tensorflow as tf\n",
    "import keras\n",
    "from keras import models, layers\n",
    "keras.__version__\n",
    "\n",
    "df = pd.read_csv(\"https://github.com/bgweber/Twitch/raw/master/Recommendations/games-expand.csv\")\n",
    "df.to_csv(\"games.csv\", index=False)\n",
    "df.head()\n",
    "\n",
    "train = df[5000:]\n",
    "test = df[:5000]\n",
    "\n",
    "x = train.drop(['label'], axis=1)\n",
    "y = train['label']\n",
    "\n",
    "model = models.Sequential()\n",
    "model.add(layers.Dense(64, activation='relu', input_shape=(10,)))\n",
    "model.add(layers.Dropout(0.1))\n",
    "model.add(layers.Dense(64, activation='relu'))\n",
    "model.add(layers.Dropout(0.1))\n",
    "model.add(layers.Dense(64, activation='relu'))\n",
    "model.add(layers.Dense(1, activation='sigmoid'))\n",
    "\n",
    "\n",
    "def auc(y_true, y_pred):\n",
    "    auc = tf.metrics.auc(y_true, y_pred)[1]\n",
    "    keras.backend.get_session().run(tf.local_variables_initializer())\n",
    "    return auc\n",
    "    \n",
    "model.compile(optimizer='rmsprop',\n",
    "              loss='binary_crossentropy',\n",
    "              metrics=[auc])\n",
    "\n",
    "\n",
    "history = model.fit(x,\n",
    "                    y,\n",
    "                    epochs=100,\n",
    "                    batch_size=100,\n",
    "                    validation_split = .2,\n",
    "                    verbose=0)\n",
    "\n",
    "x_test = test.drop(['label'], axis=1)\n",
    "y_test = test['label']\n",
    "\n",
    "results = model.evaluate(x_test, y_test, verbose = 0)\n",
    "print(results)\n",
    "\n",
    "model.save(\"games.h5\")"
   ]
  },
  {
   "cell_type": "markdown",
   "metadata": {},
   "source": [
    "# Model Deploy"
   ]
  },
  {
   "cell_type": "code",
   "execution_count": null,
   "metadata": {},
   "outputs": [],
   "source": [
    "import flask\n",
    "import pandas as pd\n",
    "import tensorflow as tf\n",
    "import keras\n",
    "keras.__version__\n",
    "from keras.models import load_model\n",
    "\n",
    "# instantiate flask \n",
    "app = flask.Flask(__name__)\n",
    "\n",
    "# we need to redefine our loss function in order to use it when loading the model \n",
    "def auc(y_true, y_pred):\n",
    "    auc = tf.metrics.auc(y_true, y_pred)[1]\n",
    "    keras.backend.get_session().run(tf.local_variables_initializer())\n",
    "    return auc\n",
    "\n",
    "# load the model, and pass in the custom loss function\n",
    "global graph\n",
    "graph = tf.get_default_graph()\n",
    "model = load_model('games.h5', custom_objects={'auc': auc})\n",
    "\n",
    "# define a predict function as an endpoint \n",
    "@app.route(\"/predict\", methods=[\"GET\",\"POST\"])\n",
    "def predict():\n",
    "    data = {\"success\": False}\n",
    "\n",
    "    params = flask.request.json\n",
    "    if (params == None):\n",
    "        params = flask.request.args\n",
    "\n",
    "    # if parameters are found, echo the msg parameter \n",
    "    if (params != None):\n",
    "        x = pd.DataFrame.from_dict(params, orient='index').transpose()\n",
    "        with graph.as_default():\n",
    "            data[\"prediction\"] = str(model.predict(x)[0][0])\n",
    "            data[\"success\"] = True\n",
    "\n",
    "    # return a reponse in json format \n",
    "    return flask.jsonify(data)    \n",
    "\n",
    "# start the flask app, allow remote connections \n",
    "app.run(host='0.0.0.0')  "
   ]
  }
 ],
 "metadata": {
  "kernelspec": {
   "display_name": "Python 3",
   "language": "python",
   "name": "python3"
  },
  "language_info": {
   "codemirror_mode": {
    "name": "ipython",
    "version": 3
   },
   "file_extension": ".py",
   "mimetype": "text/x-python",
   "name": "python",
   "nbconvert_exporter": "python",
   "pygments_lexer": "ipython3",
   "version": "3.6.5"
  }
 },
 "nbformat": 4,
 "nbformat_minor": 2
}
